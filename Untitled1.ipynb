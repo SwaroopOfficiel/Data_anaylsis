{
 "cells": [
  {
   "cell_type": "code",
   "execution_count": 19,
   "id": "classified-cameroon",
   "metadata": {
    "scrolled": true
   },
   "outputs": [
    {
     "name": "stdout",
     "output_type": "stream",
     "text": [
      "Requirement already satisfied: covid in c:\\users\\vanka\\appdata\\local\\programs\\python\\python39-32\\lib\\site-packages (2.4.0)\n",
      "Requirement already satisfied: pydantic in c:\\users\\vanka\\appdata\\local\\programs\\python\\python39-32\\lib\\site-packages (from covid) (1.7.3)\n",
      "Requirement already satisfied: beautifulsoup4 in c:\\users\\vanka\\appdata\\local\\programs\\python\\python39-32\\lib\\site-packages (from covid) (4.9.3)\n",
      "Requirement already satisfied: requests in c:\\users\\vanka\\appdata\\local\\programs\\python\\python39-32\\lib\\site-packages (from covid) (2.25.0)\n",
      "Requirement already satisfied: typer in c:\\users\\vanka\\appdata\\local\\programs\\python\\python39-32\\lib\\site-packages (from covid) (0.3.2)\n",
      "Requirement already satisfied: soupsieve>1.2; python_version >= \"3.0\" in c:\\users\\vanka\\appdata\\local\\programs\\python\\python39-32\\lib\\site-packages (from beautifulsoup4->covid) (2.0.1)\n",
      "Requirement already satisfied: certifi>=2017.4.17 in c:\\users\\vanka\\appdata\\local\\programs\\python\\python39-32\\lib\\site-packages (from requests->covid) (2020.11.8)\n",
      "Requirement already satisfied: chardet<4,>=3.0.2 in c:\\users\\vanka\\appdata\\local\\programs\\python\\python39-32\\lib\\site-packages (from requests->covid) (3.0.4)\n",
      "Requirement already satisfied: urllib3<1.27,>=1.21.1 in c:\\users\\vanka\\appdata\\local\\programs\\python\\python39-32\\lib\\site-packages (from requests->covid) (1.26.2)\n",
      "Requirement already satisfied: idna<3,>=2.5 in c:\\users\\vanka\\appdata\\local\\programs\\python\\python39-32\\lib\\site-packages (from requests->covid) (2.10)\n",
      "Requirement already satisfied: click<7.2.0,>=7.1.1 in c:\\users\\vanka\\appdata\\local\\programs\\python\\python39-32\\lib\\site-packages (from typer->covid) (7.1.2)\n"
     ]
    },
    {
     "name": "stderr",
     "output_type": "stream",
     "text": [
      "WARNING: You are using pip version 20.2.4; however, version 21.0.1 is available.\n",
      "You should consider upgrading via the 'c:\\users\\vanka\\appdata\\local\\programs\\python\\python39-32\\python.exe -m pip install --upgrade pip' command.\n",
      "WARNING: You are using pip version 20.2.4; however, version 21.0.1 is available.\n",
      "You should consider upgrading via the 'c:\\users\\vanka\\appdata\\local\\programs\\python\\python39-32\\python.exe -m pip install --upgrade pip' command.\n"
     ]
    },
    {
     "name": "stdout",
     "output_type": "stream",
     "text": [
      "Requirement already satisfied: pandas in c:\\users\\vanka\\appdata\\local\\programs\\python\\python39-32\\lib\\site-packages (1.2.1)\n",
      "Requirement already satisfied: python-dateutil>=2.7.3 in c:\\users\\vanka\\appdata\\local\\programs\\python\\python39-32\\lib\\site-packages (from pandas) (2.8.1)\n",
      "Requirement already satisfied: numpy>=1.16.5 in c:\\users\\vanka\\appdata\\local\\programs\\python\\python39-32\\lib\\site-packages (from pandas) (1.19.5)\n",
      "Requirement already satisfied: pytz>=2017.3 in c:\\users\\vanka\\appdata\\local\\programs\\python\\python39-32\\lib\\site-packages (from pandas) (2020.4)\n",
      "Requirement already satisfied: six>=1.5 in c:\\users\\vanka\\appdata\\local\\programs\\python\\python39-32\\lib\\site-packages (from python-dateutil>=2.7.3->pandas) (1.15.0)\n"
     ]
    }
   ],
   "source": [
    "!pip install covid\n",
    "!pip install pandas"
   ]
  },
  {
   "cell_type": "code",
   "execution_count": 20,
   "id": "attached-category",
   "metadata": {},
   "outputs": [],
   "source": [
    "from covid import Covid\n",
    "import pandas as pd\n",
    "covid = Covid()"
   ]
  },
  {
   "cell_type": "code",
   "execution_count": 21,
   "id": "infinite-vessel",
   "metadata": {},
   "outputs": [
    {
     "name": "stdout",
     "output_type": "stream",
     "text": [
      "{'active': 148766, 'recovered': 10522601, 'deaths': 154996, 'confirmed': 10826363}\n"
     ]
    }
   ],
   "source": [
    "india = covid.get_status_by_country_name(\"India\")\n",
    "data = {\n",
    "    key:india[key]\n",
    "    for key in india.keys() and {\n",
    "        \"recovered\",\n",
    "        \"active\",\n",
    "        \"deaths\",\n",
    "        \"confirmed\"\n",
    "    }\n",
    "}\n",
    "print(data)"
   ]
  },
  {
   "cell_type": "code",
   "execution_count": 22,
   "id": "cathedral-blackberry",
   "metadata": {},
   "outputs": [
    {
     "name": "stdout",
     "output_type": "stream",
     "text": [
      "{'active': 787242, 'recovered': 8429889, 'deaths': 230034, 'confirmed': 9447165}\n"
     ]
    }
   ],
   "source": [
    "brazil = covid.get_status_by_country_name(\"Brazil\")\n",
    "data1 = {\n",
    "    key:brazil[key]\n",
    "    for key in brazil.keys() and {\n",
    "        \"recovered\",\n",
    "        \"active\",\n",
    "        \"deaths\",\n",
    "        \"confirmed\"\n",
    "    }\n",
    "}\n",
    "print(data1)"
   ]
  },
  {
   "cell_type": "code",
   "execution_count": 25,
   "id": "supposed-condition",
   "metadata": {},
   "outputs": [
    {
     "name": "stdout",
     "output_type": "stream",
     "text": [
      "              India   Brazil\n",
      "active       148766   787242\n",
      "recovered  10522601  8429889\n",
      "deaths       154996   230034\n",
      "confirmed  10826363  9447165\n"
     ]
    }
   ],
   "source": [
    "first_Set = {\n",
    "    \"India\":data,\n",
    "    \"Brazil\":data1\n",
    "    \n",
    "}\n",
    "df1 = pd.DataFrame(first_Set, columns = [\"India\",\"Brazil\"])\n",
    "print(df1)"
   ]
  },
  {
   "cell_type": "code",
   "execution_count": null,
   "id": "damaged-episode",
   "metadata": {},
   "outputs": [],
   "source": []
  }
 ],
 "metadata": {
  "kernelspec": {
   "display_name": "Python 3",
   "language": "python",
   "name": "python3"
  },
  "language_info": {
   "codemirror_mode": {
    "name": "ipython",
    "version": 3
   },
   "file_extension": ".py",
   "mimetype": "text/x-python",
   "name": "python",
   "nbconvert_exporter": "python",
   "pygments_lexer": "ipython3",
   "version": "3.9.0"
  }
 },
 "nbformat": 4,
 "nbformat_minor": 5
}
